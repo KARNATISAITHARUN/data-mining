{
 "cells": [
  {
   "cell_type": "code",
   "execution_count": 1,
   "metadata": {
    "collapsed": false
   },
   "outputs": [
    {
     "name": "stderr",
     "output_type": "stream",
     "text": [
      "C:\\Users\\karna\\Anaconda2\\lib\\site-packages\\pandas\\io\\data.py:35: FutureWarning: \n",
      "The pandas.io.data module is moved to a separate package (pandas-datareader) and will be removed from pandas in a future version.\n",
      "After installing the pandas-datareader package (https://github.com/pydata/pandas-datareader), you can change the import ``from pandas.io import data, wb`` to ``from pandas_datareader import data, wb``.\n",
      "  FutureWarning)\n"
     ]
    }
   ],
   "source": [
    "%matplotlib inline\n",
    "import numpy as np\n",
    "import requests\n",
    "import pandas as pd\n",
    "import numpy as np\n",
    "from StringIO import StringIO\n",
    "import pandas.io.data as web"
   ]
  },
  {
   "cell_type": "code",
   "execution_count": 3,
   "metadata": {
    "collapsed": true
   },
   "outputs": [],
   "source": [
    "df = pd.read_csv('Sacramentorealestatetransactions.csv')"
   ]
  },
  {
   "cell_type": "code",
   "execution_count": 29,
   "metadata": {
    "collapsed": true
   },
   "outputs": [],
   "source": [
    "import math\n",
    "\n",
    "def d_euclidean(u, v):\n",
    "    d = 0\n",
    "    for x in range(len(u)):\n",
    "        d+= pow((u[x] - v[x]), 2)\n",
    " \n",
    "    return math.sqrt(d) # the calculation of the euclidean distance"
   ]
  },
  {
   "cell_type": "code",
   "execution_count": 30,
   "metadata": {
    "collapsed": false
   },
   "outputs": [],
   "source": [
    "from operator import itemgetter\n",
    "\n",
    "def knn_euclidean(k, v, w):\n",
    "    d= []\n",
    "    \n",
    "    for d_v in w:\n",
    "        dist = d_euclidean(d_v, v)\n",
    "        d.append((d_v,dist))\n",
    "\n",
    "    d.sort(key=itemgetter(1))\n",
    "    neigh = []\n",
    "    for x in range(k):\n",
    "        neigh.append(d[x][0])\n",
    "\n",
    "    return neigh\n"
   ]
  },
  {
   "cell_type": "code",
   "execution_count": 31,
   "metadata": {
    "collapsed": false
   },
   "outputs": [
    {
     "name": "stdout",
     "output_type": "stream",
     "text": [
      "['1890 GENEVA PL']\n",
      "['1813 AVENIDA MARTINA']\n",
      "['5312 MARBURY WAY']\n",
      "['8671 SUMMER SUN WAY']\n",
      "['4901 MILLNER WAY']\n",
      "['5308 MARBURY WAY']\n"
     ]
    }
   ],
   "source": [
    "w = df[['beds','baths','sq__ft','price','latitude','longitude']]\n",
    "v = df[df.street==\"1890 GENEVA PL\"]\n",
    "v = v[['beds','baths','sq__ft','price','latitude','longitude']]\n",
    "\n",
    "x = knn_euclidean(6,v.values[0],w.values)\n",
    "for i in range(len(x)):\n",
    "    t = df[(df.baths == x[i][1]) & (df.beds == x[i][0])            & (df.sq__ft == x[i][2]) & (df.price == x[i][3]) & (df.latitude == x[i][4]) &(df.longitude == x[i][5])]\n",
    "    print (t.street.values)"
   ]
  },
  {
   "cell_type": "code",
   "execution_count": null,
   "metadata": {
    "collapsed": false
   },
   "outputs": [],
   "source": []
  },
  {
   "cell_type": "code",
   "execution_count": null,
   "metadata": {
    "collapsed": false
   },
   "outputs": [],
   "source": []
  },
  {
   "cell_type": "code",
   "execution_count": null,
   "metadata": {
    "collapsed": true
   },
   "outputs": [],
   "source": []
  }
 ],
 "metadata": {
  "kernelspec": {
   "display_name": "Python [Root]",
   "language": "python",
   "name": "Python [Root]"
  },
  "language_info": {
   "codemirror_mode": {
    "name": "ipython",
    "version": 2
   },
   "file_extension": ".py",
   "mimetype": "text/x-python",
   "name": "python",
   "nbconvert_exporter": "python",
   "pygments_lexer": "ipython2",
   "version": "2.7.12"
  }
 },
 "nbformat": 4,
 "nbformat_minor": 0
}
